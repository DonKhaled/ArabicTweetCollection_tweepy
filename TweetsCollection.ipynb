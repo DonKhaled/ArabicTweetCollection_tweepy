{
 "cells": [
  {
   "cell_type": "code",
   "execution_count": 3,
   "metadata": {
    "scrolled": false
   },
   "outputs": [],
   "source": [
    "import tweepy\n",
    "import csv\n",
    "import pandas as pd\n",
    "####input your credentials here\n",
    "consumer_key=\"****************\"\n",
    "consumer_secret=\"************************\"\n",
    "access_key = \"**********-*********************\"\n",
    "access_secret = \"**********************\"\n",
    "\n",
    "auth = tweepy.OAuthHandler(consumer_key, consumer_secret)\n",
    "auth.set_access_token(access_key, access_secret)\n",
    "api = tweepy.API(auth,wait_on_rate_limit=True)"
   ]
  },
  {
   "cell_type": "code",
   "execution_count": 4,
   "metadata": {},
   "outputs": [],
   "source": [
    "search_words = \"Enter any keyword or Hashtag\"\n",
    "\n",
    "#start date of your query\n",
    "date_since = \"2020-11-08\"\n",
    "\n",
    "#end date of your query\n",
    "date_until =\"2020-11-16\""
   ]
  },
  {
   "cell_type": "code",
   "execution_count": 5,
   "metadata": {
    "scrolled": true
   },
   "outputs": [],
   "source": [
    "# Collect tweets\n",
    "tweets = tweepy.Cursor(api.search,\n",
    "              q=search_words ,since= date_since , until = date_until ,\n",
    "              lang=\"ar\",\n",
    "              count=5         \n",
    "              ).items()\n",
    "\n",
    "dfTweets = [tweet.full_text for tweet in tweets]\n"
   ]
  },
  {
   "cell_type": "code",
   "execution_count": 40,
   "metadata": {
    "scrolled": true
   },
   "outputs": [
    {
     "data": {
      "text/plain": [
       "'مش خلصت الانتخابات الامريكيه ؟ ليه ما يرجعو الرتويت زي اول'"
      ]
     },
     "execution_count": 40,
     "metadata": {},
     "output_type": "execute_result"
    }
   ],
   "source": [
    "# print first tweet\n",
    "dfTweets[0]"
   ]
  },
  {
   "cell_type": "code",
   "execution_count": 44,
   "metadata": {},
   "outputs": [],
   "source": [
    "#save into DataFrame\n",
    "tweet_text = pd.DataFrame(data=dfTweets, \n",
    "                    columns=['tweet'])"
   ]
  },
  {
   "cell_type": "code",
   "execution_count": 45,
   "metadata": {
    "scrolled": false
   },
   "outputs": [
    {
     "data": {
      "text/html": [
       "<div>\n",
       "<style scoped>\n",
       "    .dataframe tbody tr th:only-of-type {\n",
       "        vertical-align: middle;\n",
       "    }\n",
       "\n",
       "    .dataframe tbody tr th {\n",
       "        vertical-align: top;\n",
       "    }\n",
       "\n",
       "    .dataframe thead th {\n",
       "        text-align: right;\n",
       "    }\n",
       "</style>\n",
       "<table border=\"1\" class=\"dataframe\">\n",
       "  <thead>\n",
       "    <tr style=\"text-align: right;\">\n",
       "      <th></th>\n",
       "      <th>tweet</th>\n",
       "    </tr>\n",
       "  </thead>\n",
       "  <tbody>\n",
       "    <tr>\n",
       "      <td>0</td>\n",
       "      <td>نتيجة تحقيقات في قضايا\\nالتزوير الانتخابات الأ...</td>\n",
       "    </tr>\n",
       "    <tr>\n",
       "      <td>1</td>\n",
       "      <td>يا جماعة الخير شاهدوا هذا المقطع المهم جدا وتا...</td>\n",
       "    </tr>\n",
       "    <tr>\n",
       "      <td>2</td>\n",
       "      <td>رؤية استشرافية.. كيف ستتغير السياسة الأمريكية ...</td>\n",
       "    </tr>\n",
       "    <tr>\n",
       "      <td>3</td>\n",
       "      <td>فرايي المتواضع ان الانتخابات الامريكية تم حسمه...</td>\n",
       "    </tr>\n",
       "    <tr>\n",
       "      <td>4</td>\n",
       "      <td>مش خلصت الانتخابات الامريكيه ؟ ليه ما يرجعو ال...</td>\n",
       "    </tr>\n",
       "    <tr>\n",
       "      <td>...</td>\n",
       "      <td>...</td>\n",
       "    </tr>\n",
       "    <tr>\n",
       "      <td>2417</td>\n",
       "      <td>الحزب الجمهوري يمثل أنه متمسك بترامب فقط من أج...</td>\n",
       "    </tr>\n",
       "    <tr>\n",
       "      <td>2418</td>\n",
       "      <td>استطلاعات للرأي العام تقلب نتائج الإنتخابات رأ...</td>\n",
       "    </tr>\n",
       "    <tr>\n",
       "      <td>2419</td>\n",
       "      <td>@dr__H0 بسبب الانتخابات الامريكية</td>\n",
       "    </tr>\n",
       "    <tr>\n",
       "      <td>2420</td>\n",
       "      <td>سبحان الله على خفة عقول بعض البشر!!\\nمع أن #ال...</td>\n",
       "    </tr>\n",
       "    <tr>\n",
       "      <td>2421</td>\n",
       "      <td>@BiesanAK أبدعت  مع زملائك المحترمين بنقل  الا...</td>\n",
       "    </tr>\n",
       "  </tbody>\n",
       "</table>\n",
       "<p>2422 rows × 1 columns</p>\n",
       "</div>"
      ],
      "text/plain": [
       "                                                  tweet\n",
       "0     نتيجة تحقيقات في قضايا\\nالتزوير الانتخابات الأ...\n",
       "1     يا جماعة الخير شاهدوا هذا المقطع المهم جدا وتا...\n",
       "2     رؤية استشرافية.. كيف ستتغير السياسة الأمريكية ...\n",
       "3     فرايي المتواضع ان الانتخابات الامريكية تم حسمه...\n",
       "4     مش خلصت الانتخابات الامريكيه ؟ ليه ما يرجعو ال...\n",
       "...                                                 ...\n",
       "2417  الحزب الجمهوري يمثل أنه متمسك بترامب فقط من أج...\n",
       "2418  استطلاعات للرأي العام تقلب نتائج الإنتخابات رأ...\n",
       "2419                  @dr__H0 بسبب الانتخابات الامريكية\n",
       "2420  سبحان الله على خفة عقول بعض البشر!!\\nمع أن #ال...\n",
       "2421  @BiesanAK أبدعت  مع زملائك المحترمين بنقل  الا...\n",
       "\n",
       "[2422 rows x 1 columns]"
      ]
     },
     "execution_count": 45,
     "metadata": {},
     "output_type": "execute_result"
    }
   ],
   "source": [
    "#print DataFrame\n",
    "tweet_text"
   ]
  },
  {
   "cell_type": "code",
   "execution_count": 52,
   "metadata": {},
   "outputs": [],
   "source": [
    "#save \n",
    "tweet_text.to_csv(r'C:\\NAME.csv', encoding='utf-8')\n"
   ]
  }
 ],
 "metadata": {
  "kernelspec": {
   "display_name": "Python 3",
   "language": "python",
   "name": "python3"
  },
  "language_info": {
   "codemirror_mode": {
    "name": "ipython",
    "version": 3
   },
   "file_extension": ".py",
   "mimetype": "text/x-python",
   "name": "python",
   "nbconvert_exporter": "python",
   "pygments_lexer": "ipython3",
   "version": "3.7.4"
  }
 },
 "nbformat": 4,
 "nbformat_minor": 2
}
